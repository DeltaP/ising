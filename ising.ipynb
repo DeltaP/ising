{
 "cells": [
  {
   "cell_type": "code",
   "execution_count": 1,
   "metadata": {
    "collapsed": true
   },
   "outputs": [],
   "source": [
    "import numpy as np\n",
    "import random"
   ]
  },
  {
   "cell_type": "code",
   "execution_count": 2,
   "metadata": {
    "collapsed": false
   },
   "outputs": [],
   "source": [
    "class Lattice:\n",
    "    def __init__(self,L,beta,start='cold',J=-1):\n",
    "        self.J = J\n",
    "        self.L = L\n",
    "        self.N = L*L\n",
    "        self.beta = beta\n",
    "        self.metropolisProb = [np.exp(-2*beta*x) for x in range(2,5,2)]\n",
    "        self.wolffProb = 1 - np.exp(-2*beta*J)\n",
    "        if start == 'hot':\n",
    "            self.sites = np.random.choice((-1,1),(L,L))\n",
    "        elif start == 'cold':\n",
    "            self.sites = np.ones((L,L),dtype='int8')\n",
    "        else:\n",
    "            print(\"'{}' is an incorrect start configuration.  Valid choices are 'hot' or 'cold'.\".format(start))\n",
    "            print(\"Default to 'cold' start\")\n",
    "            self.sites = np.ones((L,L),dtype='int8')\n",
    "            \n",
    "    def update_metropolis(self):\n",
    "        for i in range(self.N):\n",
    "            x = random.randrange(0,self.L)\n",
    "            y = random.randrange(0,self.L)\n",
    "            sumNeighbor  = self.sites[(y+1)%self.L][x]\n",
    "            sumNeighbor += self.sites[(y-1)%self.L][x]\n",
    "            sumNeighbor += self.sites[y][(x+1)%self.L]\n",
    "            sumNeighbor += self.sites[y][(x-1)%self.L]\n",
    "                \n",
    "            delta = self.sites[y][x]*sumNeighbor\n",
    "                                \n",
    "            if delta <= 0:\n",
    "                self.sites[y][x] *= -1\n",
    "            elif random.random()<self.metropolisProb[int(delta/2-1)]:\n",
    "                self.sites[y][x] *= -1\n",
    "                            \n",
    "    def update_wolff(self):\n",
    "        cluster = np.full((self.L,self.L),False,dtype='bool')\n",
    "        \n",
    "        X = random.randrange(0,self.L)\n",
    "        Y = random.randrange(0,self.L)\n",
    "        \n",
    "        def tryAdd(x,y,clusterSpin,cluster):\n",
    "            if self.sites[y][x] == clusterSpin:\n",
    "                if random.random() < self.wolffProb:\n",
    "                    growCluster(x,y,clusterSpin,cluster)\n",
    "        \n",
    "        def growCluster(x,y,clusterSpin,cluster):\n",
    "            self.sites[y][x] *= -1\n",
    "            cluster[y][x] = True\n",
    "            \n",
    "            if cluster[(y+1)%self.L][x] == False:\n",
    "                tryAdd(x,(y+1)%self.L,clusterSpin,cluster)\n",
    "            if cluster[(y-1)%self.L][x] == False:\n",
    "                tryAdd(x,(y-1)%self.L,clusterSpin,cluster)\n",
    "            if cluster[y][(x+1)%self.L] == False:\n",
    "                tryAdd((x+1)%self.L,y,clusterSpin,cluster)\n",
    "            if cluster[y][(x-1%self.L)] == False:\n",
    "                tryAdd((x-1)%self.L,y,clusterSpin,cluster)\n",
    "                \n",
    "        growCluster(X,Y,self.sites[Y][X],cluster)\n",
    "\n",
    "    def m(self):\n",
    "        return self.sites.sum()/self.N\n",
    "    \n",
    "    def e(self):\n",
    "        e = 0\n",
    "        for x in range(self.L):\n",
    "            for y in range(self.L):\n",
    "                sumNeighbor  = self.sites[(y+1)%self.L][x]\n",
    "                sumNeighbor += self.sites[(y-1)%self.L][x]\n",
    "                sumNeighbor += self.sites[y][(x+1)%self.L]\n",
    "                sumNeighbor += self.sites[y][(x-1)%self.L]\n",
    "                \n",
    "                e += self.sites[y][x]*sumNeighbor\n",
    "        return e/self.N\n",
    "    \n",
    "    def chi(self):\n",
    "        pass\n",
    "    \n",
    "    def c(self):\n",
    "        pass\n",
    "    \n",
    "    def __str__(self):\n",
    "        string = \"Mean Magnetization Per Site:\\t{}\\n\".format(self.m())\n",
    "        string += \"Mean Energy Per Site:\\t\\t{}\\n\".format(self.e())\n",
    "        string += str(self.sites)\n",
    "        return string\n",
    "\n"
   ]
  },
  {
   "cell_type": "code",
   "execution_count": 11,
   "metadata": {
    "collapsed": false
   },
   "outputs": [
    {
     "name": "stdout",
     "output_type": "stream",
     "text": [
      "Mean Magnetization Per Site:\t-0.12\n",
      "Mean Energy Per Site:\t\t-0.08\n",
      "[[-1  1  1 -1 -1 -1  1 -1 -1  1]\n",
      " [ 1  1  1 -1  1 -1  1 -1  1  1]\n",
      " [ 1 -1  1  1 -1 -1 -1  1  1 -1]\n",
      " [ 1  1 -1 -1 -1 -1 -1 -1 -1  1]\n",
      " [-1  1 -1 -1 -1  1  1 -1 -1 -1]\n",
      " [-1  1 -1 -1 -1  1  1 -1 -1  1]\n",
      " [-1 -1  1  1  1 -1 -1  1 -1  1]\n",
      " [-1 -1  1 -1  1 -1 -1  1 -1  1]\n",
      " [-1  1 -1  1  1  1  1 -1  1 -1]\n",
      " [ 1 -1 -1 -1  1  1 -1 -1 -1 -1]]\n",
      "Mean Magnetization Per Site:\t0.12\n",
      "Mean Energy Per Site:\t\t0.16\n",
      "[[ 1  1 -1  1  1  1 -1  1  1  1]\n",
      " [ 1  1 -1 -1 -1  1 -1  1  1  1]\n",
      " [ 1 -1 -1  1 -1 -1  1 -1 -1  1]\n",
      " [-1  1  1  1 -1  1 -1 -1 -1  1]\n",
      " [-1 -1 -1 -1  1 -1 -1 -1 -1 -1]\n",
      " [ 1  1  1 -1  1 -1  1  1 -1  1]\n",
      " [-1  1  1 -1  1  1  1  1 -1  1]\n",
      " [ 1  1 -1  1  1  1  1  1 -1  1]\n",
      " [ 1 -1 -1  1  1 -1  1  1 -1  1]\n",
      " [-1  1  1 -1 -1 -1  1 -1 -1  1]]\n"
     ]
    }
   ],
   "source": [
    "sim = Lattice(10,100,'hot')\n",
    "print(sim)\n",
    "for i in range(1000):\n",
    "    sim.update_wolff()\n",
    "print(sim)\n"
   ]
  },
  {
   "cell_type": "code",
   "execution_count": null,
   "metadata": {
    "collapsed": true
   },
   "outputs": [],
   "source": []
  },
  {
   "cell_type": "code",
   "execution_count": null,
   "metadata": {
    "collapsed": true
   },
   "outputs": [],
   "source": []
  }
 ],
 "metadata": {
  "kernelspec": {
   "display_name": "Python 3",
   "language": "python",
   "name": "python3"
  },
  "language_info": {
   "codemirror_mode": {
    "name": "ipython",
    "version": 3
   },
   "file_extension": ".py",
   "mimetype": "text/x-python",
   "name": "python",
   "nbconvert_exporter": "python",
   "pygments_lexer": "ipython3",
   "version": "3.5.2"
  }
 },
 "nbformat": 4,
 "nbformat_minor": 1
}
