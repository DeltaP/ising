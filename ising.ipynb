{
 "cells": [
  {
   "cell_type": "code",
   "execution_count": null,
   "metadata": {
    "collapsed": false
   },
   "outputs": [],
   "source": [
    "import numpy as np\n",
    "import pandas as pd\n",
    "import sklearn\n",
    "import random\n",
    "import matplotlib.pyplot as plt\n",
    "import sys\n",
    "%matplotlib inline\n",
    "sys.setrecursionlimit(10000)"
   ]
  },
  {
   "cell_type": "code",
   "execution_count": null,
   "metadata": {
    "collapsed": false
   },
   "outputs": [],
   "source": [
    "class Lattice:\n",
    "    def __init__(self,L,T,start='cold',J=1):\n",
    "        self.J = J\n",
    "        self.L = L\n",
    "        self.N = L*L\n",
    "        self.T = T\n",
    "        beta = 1/T\n",
    "        self.metropolisProb = [np.exp(-2*beta*x) for x in range(2,5,2)]\n",
    "        self.wolffProb = 1 - np.exp(-2*beta*J)\n",
    "        if start == 'hot':\n",
    "            self.sites = np.random.choice((-1,1),(L,L))\n",
    "        elif start == 'cold':\n",
    "            self.sites = np.ones((L,L),dtype='int8')\n",
    "        else:\n",
    "            print(\"'{}' is an incorrect start configuration.  Valid choices are 'hot' or 'cold'.\".format(start))\n",
    "            print(\"Default to 'cold' start\")\n",
    "            self.sites = np.ones((L,L),dtype='int8')\n",
    "            \n",
    "    def update_metropolis(self):\n",
    "        for i in range(self.N):\n",
    "            x = random.randrange(0,self.L)\n",
    "            y = random.randrange(0,self.L)\n",
    "            sumNeighbor  = self.sites[(y+1)%self.L][x]\n",
    "            sumNeighbor += self.sites[(y-1)%self.L][x]\n",
    "            sumNeighbor += self.sites[y][(x+1)%self.L]\n",
    "            sumNeighbor += self.sites[y][(x-1)%self.L]\n",
    "                \n",
    "            delta = self.sites[y][x]*sumNeighbor\n",
    "                                \n",
    "            if delta <= 0:\n",
    "                self.sites[y][x] *= -1\n",
    "            elif random.random()<self.metropolisProb[int(delta/2-1)]:\n",
    "                self.sites[y][x] *= -1\n",
    "                            \n",
    "    def update_wolff(self):\n",
    "        cluster = np.full((self.L,self.L),False,dtype='bool')\n",
    "        \n",
    "        X = random.randrange(0,self.L)\n",
    "        Y = random.randrange(0,self.L)\n",
    "        \n",
    "        def tryAdd(x,y,clusterSpin,cluster):\n",
    "            if self.sites[y][x] == clusterSpin:\n",
    "                if random.random() < self.wolffProb:\n",
    "                    growCluster(x,y,clusterSpin,cluster)\n",
    "        \n",
    "        def growCluster(x,y,clusterSpin,cluster):\n",
    "            self.sites[y][x] *= -1\n",
    "            cluster[y][x] = True\n",
    "            \n",
    "            if cluster[(y+1)%self.L][x] == False:\n",
    "                tryAdd(x,(y+1)%self.L,clusterSpin,cluster)\n",
    "            if cluster[(y-1)%self.L][x] == False:\n",
    "                tryAdd(x,(y-1)%self.L,clusterSpin,cluster)\n",
    "            if cluster[y][(x+1)%self.L] == False:\n",
    "                tryAdd((x+1)%self.L,y,clusterSpin,cluster)\n",
    "            if cluster[y][(x-1%self.L)] == False:\n",
    "                tryAdd((x-1)%self.L,y,clusterSpin,cluster)\n",
    "                \n",
    "        growCluster(X,Y,self.sites[Y][X],cluster)\n",
    "\n",
    "    def m(self):\n",
    "        return self.sites.sum()/self.N\n",
    "    \n",
    "    def e(self):\n",
    "        e = 0\n",
    "        for x in range(self.L):\n",
    "            for y in range(self.L):\n",
    "                sumNeighbor  = self.sites[(y+1)%self.L][x]\n",
    "                sumNeighbor += self.sites[(y-1)%self.L][x]\n",
    "                sumNeighbor += self.sites[y][(x+1)%self.L]\n",
    "                sumNeighbor += self.sites[y][(x-1)%self.L]\n",
    "                \n",
    "                e += -self.sites[y][x]*sumNeighbor\n",
    "        return e/(2*self.N)\n",
    "    \n",
    "    def __str__(self):\n",
    "        string = \"Mean Magnetization Per Site:\\t{}\\n\".format(self.m())\n",
    "        string += \"Mean Energy Per Site:\\t\\t{}\\n\".format(self.e())\n",
    "        string += str(self.sites)\n",
    "        return string"
   ]
  },
  {
   "cell_type": "code",
   "execution_count": null,
   "metadata": {
    "collapsed": true
   },
   "outputs": [],
   "source": [
    "def autocorr(x):\n",
    "    x = x - x.mean()\n",
    "    result = np.correlate(x, x, mode='full')\n",
    "    return result[result.size/2:]\n",
    "def c(x,T,L):\n",
    "    return 1/(L**2*T**2)*((x*x).mean()-x.mean()**2)\n",
    "def bootstrap_c(x,T,L,n=100):\n",
    "    l = len(x)\n",
    "    c_rs = []\n",
    "    for i in range(n):\n",
    "        x_rs = sklearn.utils.resample(x,n_samples=l)\n",
    "        c_rs.append(c(x_rs,T,L))\n",
    "    c_np = np.array(c_rs)\n",
    "    return np.sqrt((c_np*c_np).mean()-c_np.mean()**2)"
   ]
  },
  {
   "cell_type": "code",
   "execution_count": null,
   "metadata": {
    "collapsed": false
   },
   "outputs": [],
   "source": [
    "hot  = Lattice(32,2,'hot')\n",
    "cold = Lattice(32,2,'cold')\n",
    "d    = []\n",
    "for i in range(1000):\n",
    "    hot.update_wolff()\n",
    "    cold.update_wolff()\n",
    "    \n",
    "    d.append((cold.m(),hot.m(),cold.e(),hot.e()))"
   ]
  },
  {
   "cell_type": "code",
   "execution_count": null,
   "metadata": {
    "collapsed": false
   },
   "outputs": [],
   "source": [
    "df = pd.DataFrame(d,columns=['m_cold','m_hot','e_cold','e_hot'])"
   ]
  },
  {
   "cell_type": "code",
   "execution_count": null,
   "metadata": {
    "collapsed": false
   },
   "outputs": [],
   "source": [
    "ax = df.plot(y=['m_cold','m_hot'],ylim=(0,1.2),figsize=(10,6),color=('b','r'),title=\"Thermalization of <m>\")\n",
    "ax.set_xlabel(\"Simulation Time\")\n",
    "ax.set_ylabel(\"<m>\")\n",
    "ax.patch.set_facecolor('None')"
   ]
  },
  {
   "cell_type": "code",
   "execution_count": null,
   "metadata": {
    "collapsed": false
   },
   "outputs": [],
   "source": [
    "ax = df.plot(y=['e_cold','e_hot'],ylim=(-4.2,0),figsize=(10,6),color=('b','r'),title=\"Wolff Thermalization of <e>\")\n",
    "ax.set_xlabel(\"Simulation Time\")\n",
    "ax.set_ylabel(\"<e>\")\n",
    "ax.patch.set_facecolor('None')"
   ]
  },
  {
   "cell_type": "code",
   "execution_count": null,
   "metadata": {
    "collapsed": false
   },
   "outputs": [],
   "source": [
    "plt.plot(autocorr(df.e_hot[100:])[:10],label=\"e_hot\")\n",
    "plt.plot(autocorr(df.e_cold[100:])[:10],label=\"e_cold\")\n",
    "plt.legend()\n",
    "plt.title(\"Autocorrelation for Wolff\")\n",
    "plt.ylabel(\"Integrated ACF\")\n",
    "plt.xlabel(\"Time Steps\")"
   ]
  },
  {
   "cell_type": "code",
   "execution_count": null,
   "metadata": {
    "collapsed": false
   },
   "outputs": [],
   "source": [
    "d_16    = []\n",
    "L = 16\n",
    "t_sim = [1,1.25,1.5,1.75,2,2.1,2.2,2.3,2.4,2.5,2.6,3,3.5]\n",
    "for t in t_sim:\n",
    "    print(\"Running simulation for temperature:\\t{}\".format(t))\n",
    "    hot  = Lattice(L,t,'hot')\n",
    "    cold = Lattice(L,t,'cold')\n",
    "    for i in range(1000):\n",
    "        if t < 2.9:\n",
    "            hot.update_wolff()\n",
    "            cold.update_wolff()\n",
    "        else:\n",
    "            hot.update_metropolis()\n",
    "            cold.update_metropolis()\n",
    "        d_16.append((t,cold.m(),i,hot.m(),cold.e(),hot.e()))"
   ]
  },
  {
   "cell_type": "code",
   "execution_count": null,
   "metadata": {
    "collapsed": false
   },
   "outputs": [],
   "source": [
    "df_16 = pd.DataFrame(d_16,columns=['T','step','m_cold','m_hot','e_cold','e_hot'])"
   ]
  },
  {
   "cell_type": "code",
   "execution_count": null,
   "metadata": {
    "collapsed": false
   },
   "outputs": [],
   "source": [
    "calculation = []\n",
    "for i in df_16.groupby('T'):\n",
    "    T = i[0]\n",
    "    tdf = i[1]\n",
    "    calculation.append((T,c(tdf.e_cold.values[100:],T,L),bootstrap_c(tdf.m_cold.values[100:],T,L)))"
   ]
  },
  {
   "cell_type": "code",
   "execution_count": null,
   "metadata": {
    "collapsed": false
   },
   "outputs": [],
   "source": [
    "c_df = pd.DataFrame(calculation,columns=['T','c','c_err'])"
   ]
  },
  {
   "cell_type": "code",
   "execution_count": null,
   "metadata": {
    "collapsed": false
   },
   "outputs": [],
   "source": [
    "ax = c_df.plot(x='T',y='c',yerr='c_err',kind='scatter',title='Specific Heat',figsize=(10,6))\n",
    "ax.patch.set_facecolor('None')"
   ]
  },
  {
   "cell_type": "code",
   "execution_count": null,
   "metadata": {
    "collapsed": false
   },
   "outputs": [],
   "source": [
    "df_16[df_16.T==2].plot(x='step',y=['e_hot','e_cold'])"
   ]
  },
  {
   "cell_type": "code",
   "execution_count": null,
   "metadata": {
    "collapsed": false
   },
   "outputs": [],
   "source": [
    "df_16.head()"
   ]
  },
  {
   "cell_type": "code",
   "execution_count": null,
   "metadata": {
    "collapsed": false
   },
   "outputs": [],
   "source": [
    "d_32  = []\n",
    "L     = 32\n",
    "t_sim = [1,1.25,1.5,1.75,2,2.1,2.2,2.3,2.4,2.5,2.6,3,3.5]\n",
    "for t in t_sim:\n",
    "    print(\"Running simulation for temperature:\\t{}\".format(t))\n",
    "    hot  = Lattice(L,t,'hot')\n",
    "    cold = Lattice(L,t,'cold')\n",
    "    for i in range(1000):\n",
    "        hot.update_wolff()\n",
    "        cold.update_wolff()\n",
    "        d_32.append((t,cold.m(),i,hot.m(),cold.e(),hot.e()))"
   ]
  },
  {
   "cell_type": "code",
   "execution_count": null,
   "metadata": {
    "collapsed": true
   },
   "outputs": [],
   "source": [
    "df_32 = pd.DataFrame(d_32,columns=['T','step','m_cold','m_hot','e_cold','e_hot'])"
   ]
  },
  {
   "cell_type": "code",
   "execution_count": null,
   "metadata": {
    "collapsed": false
   },
   "outputs": [],
   "source": [
    "calculation = []\n",
    "for i in df_32.groupby('T'):\n",
    "    T = i[0]\n",
    "    tdf = i[1]\n",
    "    calculation.append((T,c(tdf.e_hot.values[100:],t,L),bootstrap_c(tdf.m_hot.values[100:],t,L)))"
   ]
  },
  {
   "cell_type": "code",
   "execution_count": null,
   "metadata": {
    "collapsed": false
   },
   "outputs": [],
   "source": [
    "c_df = pd.DataFrame(calculation,columns=['T','c','c_err'])\n",
    "ax = c_df.plot(x='T',y='c',yerr='c_err',kind='scatter',title='Specific Heat',figsize=(10,6))\n",
    "ax.patch.set_facecolor('None')"
   ]
  },
  {
   "cell_type": "code",
   "execution_count": null,
   "metadata": {
    "collapsed": false
   },
   "outputs": [],
   "source": [
    "df_32[df_32.T==3].plot(y=['e_cold','e_hot'],ylim=(-4.2,0),figsize=(10,6),color=('b','r'),title=\"Wolff Thermalization of <e>\")"
   ]
  },
  {
   "cell_type": "code",
   "execution_count": null,
   "metadata": {
    "collapsed": false
   },
   "outputs": [],
   "source": [
    "hot.e()"
   ]
  },
  {
   "cell_type": "code",
   "execution_count": null,
   "metadata": {
    "collapsed": false
   },
   "outputs": [],
   "source": [
    "import time"
   ]
  },
  {
   "cell_type": "code",
   "execution_count": null,
   "metadata": {
    "collapsed": false
   },
   "outputs": [],
   "source": [
    "sim = Lattice(10,5,'cold')\n",
    "print(sim)\n",
    "t0 = time.time()\n",
    "for i in range(10):\n",
    "    sim.update_metropolis()\n",
    "t1 = time.time() \n",
    "print(sim)\n",
    "print(\"Elapsed Time:\\t{:f}\".format((t1-t0)/10))"
   ]
  },
  {
   "cell_type": "code",
   "execution_count": null,
   "metadata": {
    "collapsed": false
   },
   "outputs": [],
   "source": [
    "sim = Lattice(10,5,'cold')\n",
    "print(sim)\n",
    "t0 = time.time()\n",
    "for i in range(10):\n",
    "    sim.update_wolff()\n",
    "t1 = time.time()\n",
    "print(sim)\n",
    "print(\"Elapsed Time:\\t{:f}\".format((t1-t0)/10))"
   ]
  },
  {
   "cell_type": "code",
   "execution_count": null,
   "metadata": {
    "collapsed": true
   },
   "outputs": [],
   "source": []
  }
 ],
 "metadata": {
  "kernelspec": {
   "display_name": "Python 3",
   "language": "python",
   "name": "python3"
  },
  "language_info": {
   "codemirror_mode": {
    "name": "ipython",
    "version": 3
   },
   "file_extension": ".py",
   "mimetype": "text/x-python",
   "name": "python",
   "nbconvert_exporter": "python",
   "pygments_lexer": "ipython3",
   "version": "3.5.2"
  }
 },
 "nbformat": 4,
 "nbformat_minor": 1
}
